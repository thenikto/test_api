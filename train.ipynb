{
 "cells": [
  {
   "cell_type": "code",
   "execution_count": 1,
   "id": "4883d246",
   "metadata": {},
   "outputs": [
    {
     "name": "stdout",
     "output_type": "stream",
     "text": [
      "Requirement already satisfied: scikit-learn==1.6.1 in c:\\users\\122\\anaconda3\\lib\\site-packages (1.6.1)\n",
      "Requirement already satisfied: scipy>=1.6.0 in c:\\users\\122\\anaconda3\\lib\\site-packages (from scikit-learn==1.6.1) (1.7.3)\n",
      "Requirement already satisfied: threadpoolctl>=3.1.0 in c:\\users\\122\\anaconda3\\lib\\site-packages (from scikit-learn==1.6.1) (3.6.0)\n",
      "Requirement already satisfied: joblib>=1.2.0 in c:\\users\\122\\anaconda3\\lib\\site-packages (from scikit-learn==1.6.1) (1.5.1)\n",
      "Requirement already satisfied: numpy>=1.19.5 in c:\\users\\122\\anaconda3\\lib\\site-packages (from scikit-learn==1.6.1) (1.21.5)\n",
      "Note: you may need to restart the kernel to use updated packages.\n"
     ]
    }
   ],
   "source": [
    "%pip install --user scikit-learn==1.6.1"
   ]
  },
  {
   "cell_type": "code",
   "execution_count": 2,
   "id": "7e7d93a8",
   "metadata": {},
   "outputs": [
    {
     "name": "stdout",
     "output_type": "stream",
     "text": [
      "1.6.1\n"
     ]
    }
   ],
   "source": [
    "import sklearn\n",
    "print(sklearn.__version__)"
   ]
  },
  {
   "cell_type": "code",
   "execution_count": 3,
   "id": "62ed9e04",
   "metadata": {},
   "outputs": [],
   "source": [
    "import os\n",
    "import pandas as pd\n",
    "\n",
    "from sklearn.model_selection import train_test_split\n",
    "from sklearn.tree import DecisionTreeClassifier\n",
    "from sklearn.metrics import accuracy_score, confusion_matrix, classification_report\n",
    "import pickle\n",
    "import matplotlib.pyplot as plt\n",
    "import itertools\n",
    "import numpy as np"
   ]
  },
  {
   "cell_type": "code",
   "execution_count": 4,
   "id": "41f3a2f2",
   "metadata": {},
   "outputs": [
    {
     "name": "stdout",
     "output_type": "stream",
     "text": [
      "1.6.1\n"
     ]
    }
   ],
   "source": [
    "import sklearn\n",
    "print(sklearn.__version__)"
   ]
  },
  {
   "cell_type": "code",
   "execution_count": 5,
   "id": "51ca5f13",
   "metadata": {},
   "outputs": [],
   "source": [
    "# Загрузка данных Титаника из csv-файла\n",
    "data = pd.read_csv('titanic.csv')\n",
    "data = data [['Survived','Pclass','Age','Fare']]\n",
    "data = data.dropna(subset=['Age'])"
   ]
  },
  {
   "cell_type": "code",
   "execution_count": 6,
   "id": "377f23a5",
   "metadata": {},
   "outputs": [
    {
     "name": "stdout",
     "output_type": "stream",
     "text": [
      "<class 'pandas.core.frame.DataFrame'>\n",
      "Int64Index: 714 entries, 0 to 890\n",
      "Data columns (total 4 columns):\n",
      " #   Column    Non-Null Count  Dtype  \n",
      "---  ------    --------------  -----  \n",
      " 0   Survived  714 non-null    int64  \n",
      " 1   Pclass    714 non-null    int64  \n",
      " 2   Age       714 non-null    float64\n",
      " 3   Fare      714 non-null    float64\n",
      "dtypes: float64(2), int64(2)\n",
      "memory usage: 27.9 KB\n"
     ]
    }
   ],
   "source": [
    "data.info()"
   ]
  },
  {
   "cell_type": "code",
   "execution_count": 7,
   "id": "478098f6",
   "metadata": {},
   "outputs": [
    {
     "data": {
      "text/html": [
       "<div>\n",
       "<style scoped>\n",
       "    .dataframe tbody tr th:only-of-type {\n",
       "        vertical-align: middle;\n",
       "    }\n",
       "\n",
       "    .dataframe tbody tr th {\n",
       "        vertical-align: top;\n",
       "    }\n",
       "\n",
       "    .dataframe thead th {\n",
       "        text-align: right;\n",
       "    }\n",
       "</style>\n",
       "<table border=\"1\" class=\"dataframe\">\n",
       "  <thead>\n",
       "    <tr style=\"text-align: right;\">\n",
       "      <th></th>\n",
       "      <th>Pclass</th>\n",
       "      <th>Age</th>\n",
       "      <th>Fare</th>\n",
       "    </tr>\n",
       "  </thead>\n",
       "  <tbody>\n",
       "    <tr>\n",
       "      <th>0</th>\n",
       "      <td>3</td>\n",
       "      <td>22.0</td>\n",
       "      <td>7.2500</td>\n",
       "    </tr>\n",
       "    <tr>\n",
       "      <th>1</th>\n",
       "      <td>1</td>\n",
       "      <td>38.0</td>\n",
       "      <td>71.2833</td>\n",
       "    </tr>\n",
       "    <tr>\n",
       "      <th>2</th>\n",
       "      <td>3</td>\n",
       "      <td>26.0</td>\n",
       "      <td>7.9250</td>\n",
       "    </tr>\n",
       "    <tr>\n",
       "      <th>3</th>\n",
       "      <td>1</td>\n",
       "      <td>35.0</td>\n",
       "      <td>53.1000</td>\n",
       "    </tr>\n",
       "    <tr>\n",
       "      <th>4</th>\n",
       "      <td>3</td>\n",
       "      <td>35.0</td>\n",
       "      <td>8.0500</td>\n",
       "    </tr>\n",
       "    <tr>\n",
       "      <th>...</th>\n",
       "      <td>...</td>\n",
       "      <td>...</td>\n",
       "      <td>...</td>\n",
       "    </tr>\n",
       "    <tr>\n",
       "      <th>885</th>\n",
       "      <td>3</td>\n",
       "      <td>39.0</td>\n",
       "      <td>29.1250</td>\n",
       "    </tr>\n",
       "    <tr>\n",
       "      <th>886</th>\n",
       "      <td>2</td>\n",
       "      <td>27.0</td>\n",
       "      <td>13.0000</td>\n",
       "    </tr>\n",
       "    <tr>\n",
       "      <th>887</th>\n",
       "      <td>1</td>\n",
       "      <td>19.0</td>\n",
       "      <td>30.0000</td>\n",
       "    </tr>\n",
       "    <tr>\n",
       "      <th>889</th>\n",
       "      <td>1</td>\n",
       "      <td>26.0</td>\n",
       "      <td>30.0000</td>\n",
       "    </tr>\n",
       "    <tr>\n",
       "      <th>890</th>\n",
       "      <td>3</td>\n",
       "      <td>32.0</td>\n",
       "      <td>7.7500</td>\n",
       "    </tr>\n",
       "  </tbody>\n",
       "</table>\n",
       "<p>714 rows × 3 columns</p>\n",
       "</div>"
      ],
      "text/plain": [
       "     Pclass   Age     Fare\n",
       "0         3  22.0   7.2500\n",
       "1         1  38.0  71.2833\n",
       "2         3  26.0   7.9250\n",
       "3         1  35.0  53.1000\n",
       "4         3  35.0   8.0500\n",
       "..      ...   ...      ...\n",
       "885       3  39.0  29.1250\n",
       "886       2  27.0  13.0000\n",
       "887       1  19.0  30.0000\n",
       "889       1  26.0  30.0000\n",
       "890       3  32.0   7.7500\n",
       "\n",
       "[714 rows x 3 columns]"
      ]
     },
     "execution_count": 7,
     "metadata": {},
     "output_type": "execute_result"
    }
   ],
   "source": [
    "data.drop('Survived', axis=1)"
   ]
  },
  {
   "cell_type": "code",
   "execution_count": 8,
   "id": "2a167cd3",
   "metadata": {},
   "outputs": [],
   "source": [
    "train, test = train_test_split(data, test_size=0.2)"
   ]
  },
  {
   "cell_type": "code",
   "execution_count": 9,
   "id": "24187821",
   "metadata": {},
   "outputs": [],
   "source": [
    "\n",
    "def plot_confusion_matrix(cm, classes,\n",
    "                          normalize=False,\n",
    "                          title='Confusion matrix',\n",
    "                          cmap=plt.cm.Blues):\n",
    "    \"\"\"\n",
    "    Функция для построения матрицы ошибок.\n",
    "    cm - матрица ошибок\n",
    "    classes - список классов\n",
    "    normalize - если True, то значения матрицы ошибок нормализуются к 1\n",
    "    title - заголовок графика\n",
    "    cmap - цветовая схема для отображения графика\n",
    "    \"\"\"\n",
    "\n",
    "    if normalize:\n",
    "        cm = cm.astype('float') / cm.sum(axis=1)[:, np.newaxis]\n",
    "        print(\"Normalized confusion matrix\")\n",
    "    else:\n",
    "        print('Confusion matrix, without normalization')\n",
    "\n",
    "    plt.imshow(cm, interpolation='nearest', cmap=cmap)\n",
    "    plt.title(title)\n",
    "    plt.colorbar()\n",
    "    tick_marks = np.arange(len(classes))\n",
    "    plt.xticks(tick_marks, classes, rotation=45)\n",
    "    plt.yticks(tick_marks, classes)\n",
    "\n",
    "    fmt = '.2f' if normalize else 'd'\n",
    "    thresh = cm.max() / 2.\n",
    "    for i, j in itertools.product(range(cm.shape[0]), range(cm.shape[1])):\n",
    "        plt.text(j, i, format(cm[i, j], fmt),\n",
    "                 horizontalalignment=\"center\",\n",
    "                 color=\"white\" if cm[i, j] > thresh else \"black\")\n",
    "\n",
    "    plt.tight_layout()\n",
    "    plt.ylabel('True label')\n",
    "    plt.xlabel('Predicted label')"
   ]
  },
  {
   "cell_type": "code",
   "execution_count": 10,
   "id": "19859874",
   "metadata": {},
   "outputs": [
    {
     "name": "stdout",
     "output_type": "stream",
     "text": [
      "accuracy 0.6993006993006993\n",
      "Confusion matrix, without normalization\n",
      "              precision    recall  f1-score   support\n",
      "\n",
      "Not Survived       0.77      0.70      0.73        84\n",
      "    Survived       0.62      0.69      0.66        59\n",
      "\n",
      "    accuracy                           0.70       143\n",
      "   macro avg       0.69      0.70      0.69       143\n",
      "weighted avg       0.71      0.70      0.70       143\n",
      "\n"
     ]
    },
    {
     "data": {
      "image/png": "[encoded data removed]",
      "text/plain": [
       "<Figure size 432x288 with 2 Axes>"
      ]
     },
     "metadata": {
      "needs_background": "light"
     },
     "output_type": "display_data"
    }
   ],
   "source": [
    "def experiment(max_depth, min_samples_split):\n",
    "    # Создание и обучение модели решающего дерева\n",
    "    model = DecisionTreeClassifier(max_depth=max_depth, min_samples_split=min_samples_split)\n",
    "    model.fit(train.drop('Survived', axis=1), train['Survived'])\n",
    "\n",
    "    # Вычисление метрик \n",
    "    preds = model.predict(test.drop('Survived', axis=1))\n",
    "    acc = accuracy_score(test['Survived'], preds)\n",
    "    cm = confusion_matrix(test['Survived'], preds)\n",
    "\n",
    "    print(\"accuracy\", acc)\n",
    "\n",
    "    # Визуализация матрицы ошибок\n",
    "    plot_confusion_matrix(cm, classes=['Not Survived', 'Survived'])\n",
    "\n",
    "    # Вывод classification report\n",
    "    report = classification_report(test['Survived'], preds, target_names=['Not Survived', 'Survived'])\n",
    "    print(report)\n",
    "\n",
    "    # Сохранение модели в формате pickle\n",
    "    with open('model.pkl', 'wb') as f:\n",
    "        pickle.dump(model, f)\n",
    "\n",
    "\n",
    "# Определение гиперпараметров модели\n",
    "max_depth = 5\n",
    "min_samples_split = 150\n",
    "\n",
    "experiment(max_depth, min_samples_split)"
   ]
  },
  {
   "cell_type": "markdown",
   "id": "4b8578ae",
   "metadata": {},
   "source": [
    "## Инференс"
   ]
  },
  {
   "cell_type": "code",
   "execution_count": 11,
   "id": "0037ade6",
   "metadata": {},
   "outputs": [],
   "source": [
    "import pickle\n",
    "\n",
    "# Загрузка модели из файла pickle\n",
    "with open('model.pkl', 'rb') as f:\n",
    "    model = pickle.load(f)"
   ]
  },
  {
   "cell_type": "code",
   "execution_count": 12,
   "id": "3589ce66",
   "metadata": {},
   "outputs": [],
   "source": [
    "import pandas as pd\n",
    "\n",
    "# Новые данные\n",
    "new_data = pd.DataFrame({\n",
    "    'Pclass': [3],\n",
    "    'Age': [5.0],\n",
    "    'Fare': [7.2500]\n",
    "})"
   ]
  },
  {
   "cell_type": "code",
   "execution_count": 13,
   "id": "9f63ff05",
   "metadata": {},
   "outputs": [
    {
     "name": "stdout",
     "output_type": "stream",
     "text": [
      "Predicted Survival: [1]\n"
     ]
    }
   ],
   "source": [
    "# Предсказание\n",
    "predictions = model.predict(new_data)\n",
    "\n",
    "# Вывод результатов\n",
    "print(\"Predicted Survival:\", predictions)"
   ]
  },
  {
   "cell_type": "markdown",
   "id": "f2da5e5e",
   "metadata": {},
   "source": [
    "## Test API"
   ]
  },
  {
   "cell_type": "code",
   "execution_count": 2,
   "id": "2519d515",
   "metadata": {},
   "outputs": [
    {
     "name": "stdout",
     "output_type": "stream",
     "text": [
      "{'prediction': 'Survived'}\n"
     ]
    }
   ],
   "source": [
    "\n",
    "import requests\n",
    "\n",
    "def predict_model(data):\n",
    "    url = 'http://127.0.0.1:500/predict_model'\n",
    "\n",
    "    # Отправка POST-запроса с данными в формате форм-данных\n",
    "    response = requests.post(url, json=data)\n",
    "\n",
    "    # Проверка статуса ответа\n",
    "    if response.status_code == 200:\n",
    "        return response.json()\n",
    "    else:\n",
    "        return {\"error\": f\"Request failed with status code {response.status_code}\"}\n",
    "\n",
    "# Пример данных для предсказания\n",
    "data = {\n",
    "    \"Pclass\": 3,\n",
    "    \"Age\": 2.0,\n",
    "    \"Fare\": 10.250\n",
    "}\n",
    "\n",
    "# Получение предсказания\n",
    "prediction = predict_model(data)\n",
    "print(prediction)"
   ]
  }
 ],
 "metadata": {
  "kernelspec": {
   "display_name": "base",
   "language": "python",
   "name": "python3"
  },
  "language_info": {
   "codemirror_mode": {
    "name": "ipython",
    "version": 3
   },
   "file_extension": ".py",
   "mimetype": "text/x-python",
   "name": "python",
   "nbconvert_exporter": "python",
   "pygments_lexer": "ipython3",
   "version": "3.9.12"
  }
 },
 "nbformat": 4,
 "nbformat_minor": 5
}
